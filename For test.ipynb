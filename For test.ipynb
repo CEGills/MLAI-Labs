{
 "cells": [
  {
   "cell_type": "code",
   "execution_count": 7,
   "metadata": {},
   "outputs": [],
   "source": [
    "import numpy as np\n",
    "import pandas as pd\n",
    "from fractions import Fraction"
   ]
  },
  {
   "cell_type": "markdown",
   "metadata": {},
   "source": [
    "Week 6"
   ]
  },
  {
   "cell_type": "code",
   "execution_count": 90,
   "metadata": {},
   "outputs": [
    {
     "name": "stdout",
     "output_type": "stream",
     "text": [
      "-1.0\n",
      "-1\n"
     ]
    }
   ],
   "source": [
    "# Odds\n",
    "pie = 1/2\n",
    "minus_pie = Fraction(pie-1)\n",
    "odds = pie/minus_pie\n",
    "print(odds)\n",
    "print(Fraction(odds))\n"
   ]
  },
  {
   "cell_type": "code",
   "execution_count": 34,
   "metadata": {},
   "outputs": [
    {
     "name": "stdout",
     "output_type": "stream",
     "text": [
      "0.28768207245178085\n"
     ]
    }
   ],
   "source": [
    "# Log odds\n",
    "log_odds = np.log(pie/(1-pie))\n",
    "print(log_odds)"
   ]
  },
  {
   "cell_type": "code",
   "execution_count": null,
   "metadata": {},
   "outputs": [],
   "source": [
    "w = [-ln(4), ln(2), -ln(5), ln(3)], where ln is the natural logarithm. It is applied to a patient's X-ray feature vector x = [1, 2, 1, 2]"
   ]
  },
  {
   "cell_type": "code",
   "execution_count": 93,
   "metadata": {},
   "outputs": [
    {
     "name": "stdout",
     "output_type": "stream",
     "text": [
      "wtx\n",
      "0.5877866649021191\n",
      "prob object in poss class\n",
      "0.6428571428571428\n"
     ]
    }
   ],
   "source": [
    "# for binary logistic regression with ws and object x's what is probability the instance belongs to positive class \n",
    "\n",
    "w= np.array ([-np.log(4), np.log(2), -np.log(5), np.log(3)])\n",
    "x = np.array([1, 2, 1, 2])\n",
    "\n",
    "w_transpose_x = np.dot(w.T, x)\n",
    "print(\"wtx\")\n",
    "print(w_transpose_x)\n",
    "\n",
    "prob_object_in_pos_class = 1/(1+np.exp(-w_transpose_x))\n",
    "print(\"prob object in poss class\")\n",
    "print(prob_object_in_pos_class)"
   ]
  },
  {
   "cell_type": "markdown",
   "metadata": {},
   "source": [
    "Consider the fully connected neural network on slide 32 of Lecture 6. If we insert a new hidden layer with 12 neurons between the input layer (3 neurons) and the old hidden layer (4 neurons), with full connections between the input layer and new hidden layer, and full connections between new hidden layer and old hidden layer (no direct connections between the input layer and the old hidden layer). The same activation function sigma (sigmoid) is used in the new hidden layer.\n",
    "\n",
    "How many learnable parameters in total are there for this two-hidden-layer neural network?"
   ]
  },
  {
   "cell_type": "code",
   "execution_count": 94,
   "metadata": {},
   "outputs": [
    {
     "name": "stdout",
     "output_type": "stream",
     "text": [
      "no of weights\n",
      "92\n",
      "bias\n",
      "18\n",
      "Total parameters\n",
      "110\n"
     ]
    }
   ],
   "source": [
    "# Fully connect neural networks parameters \n",
    "\n",
    "number_of_inputs = 3\n",
    "number_of_outputs = 2\n",
    "no_neurons_in_first_hlayer = 12\n",
    "no_neurons_in_second_hlayer = 4\n",
    "\n",
    "weights = number_of_inputs*no_neurons_in_first_hlayer + no_neurons_in_first_hlayer*no_neurons_in_second_hlayer + no_neurons_in_second_hlayer*number_of_outputs\n",
    "bias = (no_neurons_in_first_hlayer + no_neurons_in_second_hlayer + number_of_outputs)\n",
    "\n",
    "print(\"no of weights\")\n",
    "print(weights)\n",
    "print(\"bias\")\n",
    "print(bias)\n",
    "print(\"Total parameters\")\n",
    "print(weights+bias)"
   ]
  },
  {
   "cell_type": "code",
   "execution_count": 87,
   "metadata": {},
   "outputs": [
    {
     "name": "stdout",
     "output_type": "stream",
     "text": [
      "\n",
      " row 0 col 0\n",
      "4\n",
      "\n",
      " row 0 col 1\n",
      "4\n",
      "\n",
      " row 1 col 0\n",
      "0\n",
      "\n",
      " row 1 col 1\n",
      "4\n"
     ]
    }
   ],
   "source": [
    "# convolving function \n",
    "# remember to check if n size and stride and kernal size will work \n",
    "\n",
    "input_grid =np.array([[1,1,1,2,0],[0,1,1,1,0], [0,0,1,1,0],[0,0,1,1,0], [1,0,1,0,1]])\n",
    "                      \n",
    "kernel_grid = np.array([[2,0],[0,2]])\n",
    "\n",
    "\n",
    "stride = 2\n",
    "N_conv = len(input_grid)\n",
    "F_conv = len(kernel_grid)\n",
    "\n",
    "def convolving_function(input_grid, kernel_grid, N_conv, F_conv, stride):\n",
    "    N_conv = len(input_grid)\n",
    "    F_conv = len(kernel_grid)\n",
    "    for i in list(range(int((N_conv-F_conv)/stride)+1)):\n",
    "        for j in list(range(int((N_conv-F_conv)/stride)+1)):\n",
    "            output_rm = np.sum(np.multiply(input_grid[(i*stride):F_conv+(i*stride),(j*stride):F_conv+(j*stride)], kernel_grid))\n",
    "            print('\\n row', i, 'col', j)\n",
    "            print(output_rm)\n",
    "            \n",
    "convolving_function(input_grid, kernel_grid, N_conv, F_conv, stride)"
   ]
  },
  {
   "cell_type": "markdown",
   "metadata": {},
   "source": [
    "Week 7"
   ]
  },
  {
   "cell_type": "code",
   "execution_count": 67,
   "metadata": {},
   "outputs": [
    {
     "name": "stdout",
     "output_type": "stream",
     "text": [
      "input grid\n",
      "[[1 1 1 0 0]\n",
      " [0 1 1 1 0]\n",
      " [0 0 1 1 1]\n",
      " [0 0 1 1 0]\n",
      " [0 1 1 0 0]]\n",
      "portion of the input grid we are looking at\n",
      "[[1 1 1]\n",
      " [0 1 1]\n",
      " [0 0 1]]\n",
      "\n",
      "Kernel:\n",
      "[[0 1 0]\n",
      " [0 1 0]\n",
      " [0 1 0]]\n",
      "top_left\n",
      "\n",
      "Output of sum of element wise multiplication of input portion and kernel:\n",
      "2\n",
      "top_middle\n",
      "\n",
      "Output of sum of element wise multiplication of input portion and kernel:\n",
      "3\n",
      "top_right\n",
      "\n",
      "Output of sum of element wise multiplication of input portion and kernel:\n",
      "2\n",
      "middle_left\n",
      "\n",
      "Output of sum of element wise multiplication of input portion and kernel:\n",
      "1\n",
      "middle_middle\n",
      "\n",
      "Output of sum of element wise multiplication of input portion and kernel:\n",
      "3\n",
      "middle_right\n",
      "\n",
      "Output of sum of element wise multiplication of input portion and kernel:\n",
      "3\n",
      "bottom_left\n",
      "\n",
      "Output of sum of element wise multiplication of input portion and kernel:\n",
      "1\n",
      "bottom_middle\n",
      "\n",
      "Output of sum of element wise multiplication of input portion and kernel:\n",
      "3\n",
      "bottom_right\n",
      "\n",
      "Output of sum of element wise multiplication of input portion and kernel:\n",
      "2\n"
     ]
    }
   ],
   "source": [
    "#convolving only for 5*5 matrix and stride 1 and 3*3 kernal \n",
    "\n",
    "input_grid =np.array([[1,1,1,0,0],[0,1,1,1,0], [0,0,1,1,1],[0,0,1,1,0], [0,1,1,0,0]])\n",
    "print (\"input grid\")\n",
    "print(input_grid)\n",
    "                      \n",
    "print(\"portion of the input grid we are looking at\")\n",
    "port = input_grid[0:3,0:3]\n",
    "print(port)\n",
    "\n",
    "kernel_grid = np.array([[0,1,0],[0,1,0],[0,1,0]])\n",
    "print('\\nKernel:')\n",
    "print(kernel_grid)\n",
    "\n",
    "stride = 1 \n",
    "N_conv = len(input_grid)\n",
    "F_conv = len(kernel_grid)\n",
    "\n",
    "print(\"top_left\")\n",
    "output_rm = np.sum(np.multiply(input_grid[0:F_conv,0:F_conv], kernel_grid))\n",
    "print('\\nOutput of sum of element wise multiplication of input portion and kernel:')\n",
    "print(output_rm)\n",
    "\n",
    "print(\"top_middle\")\n",
    "output_rm = np.sum(np.multiply(input_grid[0:F_conv,stride:F_conv+stride], kernel_grid))\n",
    "print('\\nOutput of sum of element wise multiplication of input portion and kernel:')\n",
    "print(output_rm)\n",
    "\n",
    "print(\"top_right\")\n",
    "output_rm = np.sum(np.multiply(input_grid[0:F_conv,stride+stride:F_conv+stride+stride], kernel_grid))\n",
    "print('\\nOutput of sum of element wise multiplication of input portion and kernel:')\n",
    "print(output_rm)\n",
    "\n",
    "print(\"middle_left\")\n",
    "output_rm = np.sum(np.multiply(input_grid[stride:F_conv+stride,0:F_conv], kernel_grid))\n",
    "print('\\nOutput of sum of element wise multiplication of input portion and kernel:')\n",
    "print(output_rm)\n",
    "\n",
    "print(\"middle_middle\")\n",
    "output_rm = np.sum(np.multiply(input_grid[stride:F_conv+stride,stride:F_conv+stride], kernel_grid))\n",
    "print('\\nOutput of sum of element wise multiplication of input portion and kernel:')\n",
    "print(output_rm)\n",
    "\n",
    "print(\"middle_right\")\n",
    "output_rm = np.sum(np.multiply(input_grid[stride:F_conv+stride,stride+stride:F_conv+stride+stride], kernel_grid))\n",
    "print('\\nOutput of sum of element wise multiplication of input portion and kernel:')\n",
    "print(output_rm)\n",
    "\n",
    "print(\"bottom_left\")\n",
    "output_rm = np.sum(np.multiply(input_grid[stride+stride:F_conv+stride+stride,0:F_conv], kernel_grid))\n",
    "print('\\nOutput of sum of element wise multiplication of input portion and kernel:')\n",
    "print(output_rm)\n",
    "\n",
    "print(\"bottom_middle\")\n",
    "output_rm = np.sum(np.multiply(input_grid[stride+stride:F_conv+stride+stride,stride:F_conv+stride], kernel_grid))\n",
    "print('\\nOutput of sum of element wise multiplication of input portion and kernel:')\n",
    "print(output_rm)\n",
    "\n",
    "print(\"bottom_right\")\n",
    "output_rm = np.sum(np.multiply(input_grid[stride+stride:F_conv+stride+stride,stride+stride:F_conv+stride+stride], kernel_grid))\n",
    "print('\\nOutput of sum of element wise multiplication of input portion and kernel:')\n",
    "print(output_rm)"
   ]
  },
  {
   "cell_type": "code",
   "execution_count": 84,
   "metadata": {},
   "outputs": [
    {
     "name": "stdout",
     "output_type": "stream",
     "text": [
      "input grid\n",
      "[[1 1 1 0 0 1 2]\n",
      " [0 1 1 1 0 1 2]\n",
      " [0 0 1 1 1 1 2]\n",
      " [0 0 1 1 0 1 2]\n",
      " [0 1 1 0 0 1 2]\n",
      " [0 1 1 0 0 1 2]\n",
      " [0 1 1 0 0 1 2]]\n",
      "portion of the input grid we are looking at\n",
      "[[1 1 1]\n",
      " [0 1 1]\n",
      " [0 0 1]]\n",
      "\n",
      "Kernel:\n",
      "[[0 1 0]\n",
      " [0 1 0]\n",
      " [0 1 0]]\n",
      "top_left\n",
      "\n",
      "Output of sum of element wise multiplication of input portion and kernel:\n",
      "2\n",
      "top_middle\n",
      "\n",
      "Output of sum of element wise multiplication of input portion and kernel:\n",
      "2\n",
      "top_right\n",
      "\n",
      "Output of sum of element wise multiplication of input portion and kernel:\n",
      "3\n",
      "middle_left\n",
      "\n",
      "Output of sum of element wise multiplication of input portion and kernel:\n",
      "1\n",
      "middle_middle\n",
      "\n",
      "Output of sum of element wise multiplication of input portion and kernel:\n",
      "2\n",
      "middle_right\n",
      "\n",
      "Output of sum of element wise multiplication of input portion and kernel:\n",
      "3\n",
      "bottom_left\n",
      "\n",
      "Output of sum of element wise multiplication of input portion and kernel:\n",
      "3\n",
      "bottom_middle\n",
      "\n",
      "Output of sum of element wise multiplication of input portion and kernel:\n",
      "0\n",
      "bottom_right\n",
      "\n",
      "Output of sum of element wise multiplication of input portion and kernel:\n",
      "3\n"
     ]
    }
   ],
   "source": [
    "#convolving only for 7*7 matrix and stride 2 and 3*3 kernal \n",
    "\n",
    "input_grid =np.array([[1,1,1,0,0,1,2],[0,1,1,1,0,1,2], [0,0,1,1,1,1,2],[0,0,1,1,0,1,2], [0,1,1,0,0,1,2],[0,1,1,0,0,1,2],[0,1,1,0,0,1,2]])\n",
    "print (\"input grid\")\n",
    "print(input_grid)\n",
    "                      \n",
    "print(\"portion of the input grid we are looking at\")\n",
    "port = input_grid[0:3,0:3]\n",
    "print(port)\n",
    "\n",
    "kernel_grid = np.array([[0,1,0],[0,1,0],[0,1,0]])\n",
    "print('\\nKernel:')\n",
    "print(kernel_grid)\n",
    "\n",
    "stride = 2\n",
    "N_conv = len(input_grid)\n",
    "F_conv = len(kernel_grid)\n",
    "\n",
    "print(\"top_left\")\n",
    "output_rm = np.sum(np.multiply(input_grid[0:F_conv,0:F_conv], kernel_grid))\n",
    "print('\\nOutput of sum of element wise multiplication of input portion and kernel:')\n",
    "print(output_rm)\n",
    "\n",
    "print(\"top_middle\")\n",
    "output_rm = np.sum(np.multiply(input_grid[0:F_conv,stride:F_conv+stride], kernel_grid))\n",
    "print('\\nOutput of sum of element wise multiplication of input portion and kernel:')\n",
    "print(output_rm)\n",
    "\n",
    "print(\"top_right\")\n",
    "output_rm = np.sum(np.multiply(input_grid[0:F_conv,stride+stride:F_conv+stride+stride], kernel_grid))\n",
    "print('\\nOutput of sum of element wise multiplication of input portion and kernel:')\n",
    "print(output_rm)\n",
    "\n",
    "print(\"middle_left\")\n",
    "output_rm = np.sum(np.multiply(input_grid[stride:F_conv+stride,0:F_conv], kernel_grid))\n",
    "print('\\nOutput of sum of element wise multiplication of input portion and kernel:')\n",
    "print(output_rm)\n",
    "\n",
    "print(\"middle_middle\")\n",
    "output_rm = np.sum(np.multiply(input_grid[stride:F_conv+stride,stride:F_conv+stride], kernel_grid))\n",
    "print('\\nOutput of sum of element wise multiplication of input portion and kernel:')\n",
    "print(output_rm)\n",
    "\n",
    "print(\"middle_right\")\n",
    "output_rm = np.sum(np.multiply(input_grid[stride:F_conv+stride,stride+stride:F_conv+stride+stride], kernel_grid))\n",
    "print('\\nOutput of sum of element wise multiplication of input portion and kernel:')\n",
    "print(output_rm)\n",
    "\n",
    "print(\"bottom_left\")\n",
    "output_rm = np.sum(np.multiply(input_grid[stride+stride:F_conv+stride+stride,0:F_conv], kernel_grid))\n",
    "print('\\nOutput of sum of element wise multiplication of input portion and kernel:')\n",
    "print(output_rm)\n",
    "\n",
    "print(\"bottom_middle\")\n",
    "output_rm = np.sum(np.multiply(input_grid[stride+stride:F_conv+stride+stride,stride:F_conv+stride], kernel_grid))\n",
    "print('\\nOutput of sum of element wise multiplication of input portion and kernel:')\n",
    "print(output_rm)\n",
    "\n",
    "print(\"bottom_right\")\n",
    "output_rm = np.sum(np.multiply(input_grid[stride+stride:F_conv+stride+stride,stride+stride:F_conv+stride+stride], kernel_grid))\n",
    "print('\\nOutput of sum of element wise multiplication of input portion and kernel:')\n",
    "print(output_rm)"
   ]
  },
  {
   "cell_type": "code",
   "execution_count": 85,
   "metadata": {},
   "outputs": [
    {
     "name": "stdout",
     "output_type": "stream",
     "text": [
      "size per filter\n",
      "3.0\n",
      "size for all filters\n",
      "3.0\n"
     ]
    }
   ],
   "source": [
    "# output size \n",
    "\n",
    "no_of_filters_1 = 1\n",
    "N = 7\n",
    "F = 3\n",
    "stride_1 =2 \n",
    "\n",
    "output_size = ((N-F)/stride_1) +1\n",
    "print(\"size per filter\")\n",
    "print(output_size)\n",
    "print(\"size for all filters\")\n",
    "print(output_size*no_of_filters_1)"
   ]
  },
  {
   "cell_type": "code",
   "execution_count": 88,
   "metadata": {},
   "outputs": [
    {
     "name": "stdout",
     "output_type": "stream",
     "text": [
      "total parameters\n",
      "90100\n"
     ]
    }
   ],
   "source": [
    "# number of parameters for a conv layer \n",
    "\n",
    "no_of_filters = 100\n",
    "size_of_filter = 15*15*4\n",
    "total_for_kernals = (size_of_filter+1)*no_of_filters\n",
    "print(\"total parameters\")\n",
    "print(total_for_kernals)\n",
    "\n"
   ]
  }
 ],
 "metadata": {
  "kernelspec": {
   "display_name": "Python 3",
   "language": "python",
   "name": "python3"
  },
  "language_info": {
   "codemirror_mode": {
    "name": "ipython",
    "version": 3
   },
   "file_extension": ".py",
   "mimetype": "text/x-python",
   "name": "python",
   "nbconvert_exporter": "python",
   "pygments_lexer": "ipython3",
   "version": "3.8.3"
  }
 },
 "nbformat": 4,
 "nbformat_minor": 4
}
